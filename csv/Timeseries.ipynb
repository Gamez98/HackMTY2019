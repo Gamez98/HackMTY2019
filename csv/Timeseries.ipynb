{
 "cells": [
  {
   "cell_type": "code",
   "execution_count": 2,
   "metadata": {},
   "outputs": [],
   "source": [
    "import numpy as np\n",
    "import pandas as pd\n",
    "import matplotlib.pyplot as plt\n",
    "import math\n",
    "from sklearn.preprocessing import MinMaxScaler, StandardScaler, RobustScaler\n",
    "from sklearn.metrics import mean_squared_error\n",
    "from sklearn.decomposition import PCA\n",
    "from sklearn.model_selection import train_test_split\n",
    "from sklearn.metrics import mean_squared_error\n",
    "import tensorflow as tf\n",
    "import os"
   ]
  },
  {
   "cell_type": "code",
   "execution_count": 6,
   "metadata": {},
   "outputs": [
    {
     "data": {
      "text/plain": [
       "'C:\\\\Dev\\\\HackMTY2019'"
      ]
     },
     "execution_count": 6,
     "metadata": {},
     "output_type": "execute_result"
    }
   ],
   "source": [
    "os.chdir('C:/Dev/HackMTY2019')\n",
    "os.getcwd()"
   ]
  },
  {
   "cell_type": "code",
   "execution_count": 9,
   "metadata": {},
   "outputs": [],
   "source": [
    "csv_pred_path =  'csv/input_data_pred.csv'\n",
    "csv_train_path = 'csv/input_data_train.csv'\n",
    "\n",
    "csv_pred_data = pd.read_csv(csv_pred_path)\n",
    "csv_train_data = pd.read_csv(csv_train_path)"
   ]
  },
  {
   "cell_type": "code",
   "execution_count": 15,
   "metadata": {},
   "outputs": [],
   "source": [
    "csv_pred_array = np.array(csv_pred_data)\n",
    "pred_df = pd.DataFrame(csv_pred_array)\n",
    "\n",
    "csv_train_array = np.array(csv_train_data)\n",
    "train_df = pd.DataFrame(csv_train_array)"
   ]
  },
  {
   "cell_type": "code",
   "execution_count": 26,
   "metadata": {},
   "outputs": [
    {
     "data": {
      "text/plain": [
       "0           2011-12-31\n",
       "1           2012-01-01\n",
       "2           2012-01-02\n",
       "3           2012-01-03\n",
       "4           2012-01-04\n",
       "5           2012-01-05\n",
       "6           2012-01-06\n",
       "7           2012-01-07\n",
       "8           2012-01-08\n",
       "9           2012-01-09\n",
       "10          2012-01-10\n",
       "11          2012-01-11\n",
       "12          2012-01-12\n",
       "13          2012-01-13\n",
       "14          2012-01-14\n",
       "15          2012-01-15\n",
       "16          2012-01-16\n",
       "17          2012-01-17\n",
       "18          2012-01-18\n",
       "19          2012-01-19\n",
       "20          2012-01-20\n",
       "21          2012-01-21\n",
       "22          2012-01-22\n",
       "23          2012-01-23\n",
       "24          2012-01-24\n",
       "25          2012-01-25\n",
       "26          2012-01-26\n",
       "27          2012-01-27\n",
       "28          2012-01-28\n",
       "29          2012-01-29\n",
       "               ...    \n",
       "10110570    2013-06-01\n",
       "10110571    2013-06-02\n",
       "10110572    2013-06-03\n",
       "10110573    2013-06-04\n",
       "10110574    2013-06-05\n",
       "10110575    2013-06-06\n",
       "10110576    2013-06-07\n",
       "10110577    2013-06-08\n",
       "10110578    2013-06-09\n",
       "10110579    2013-06-10\n",
       "10110580    2013-06-11\n",
       "10110581    2013-06-12\n",
       "10110582    2013-06-13\n",
       "10110583    2013-06-14\n",
       "10110584    2013-06-15\n",
       "10110585    2013-06-16\n",
       "10110586    2013-06-17\n",
       "10110587    2013-06-18\n",
       "10110588    2013-06-19\n",
       "10110589    2013-06-20\n",
       "10110590    2013-06-21\n",
       "10110591    2013-06-22\n",
       "10110592    2013-06-23\n",
       "10110593    2013-06-24\n",
       "10110594    2013-06-25\n",
       "10110595    2013-06-26\n",
       "10110596    2013-06-27\n",
       "10110597    2013-06-28\n",
       "10110598    2013-06-29\n",
       "10110599    2013-06-30\n",
       "Name: 2, Length: 10110600, dtype: object"
      ]
     },
     "execution_count": 26,
     "metadata": {},
     "output_type": "execute_result"
    }
   ],
   "source": [
    "train_df[2]"
   ]
  },
  {
   "cell_type": "code",
   "execution_count": null,
   "metadata": {},
   "outputs": [],
   "source": []
  }
 ],
 "metadata": {
  "kernelspec": {
   "display_name": "Python 3",
   "language": "python",
   "name": "python3"
  },
  "language_info": {
   "codemirror_mode": {
    "name": "ipython",
    "version": 3
   },
   "file_extension": ".py",
   "mimetype": "text/x-python",
   "name": "python",
   "nbconvert_exporter": "python",
   "pygments_lexer": "ipython3",
   "version": "3.7.3"
  }
 },
 "nbformat": 4,
 "nbformat_minor": 2
}
